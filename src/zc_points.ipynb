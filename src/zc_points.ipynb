{
 "metadata": {
  "language_info": {
   "codemirror_mode": {
    "name": "ipython",
    "version": 3
   },
   "file_extension": ".py",
   "mimetype": "text/x-python",
   "name": "python",
   "nbconvert_exporter": "python",
   "pygments_lexer": "ipython3",
   "version": "3.8.3-final"
  },
  "orig_nbformat": 2,
  "kernelspec": {
   "name": "python_defaultSpec_1598553852341",
   "display_name": "Python 3.8.3 64-bit ('base': conda)"
  }
 },
 "nbformat": 4,
 "nbformat_minor": 2,
 "cells": [
  {
   "cell_type": "code",
   "execution_count": 1,
   "metadata": {},
   "outputs": [
    {
     "output_type": "error",
     "ename": "ImportError",
     "evalue": "cannot import name 'nyc' from 'zip_codes' (c:\\Users\\rachl\\coding projects\\metrospeedy-geojson\\src\\zip_codes.py)",
     "traceback": [
      "\u001b[1;31m---------------------------------------------------------------------------\u001b[0m",
      "\u001b[1;31mImportError\u001b[0m                               Traceback (most recent call last)",
      "\u001b[1;32m<ipython-input-1-c3ae1d0069d4>\u001b[0m in \u001b[0;36m<module>\u001b[1;34m\u001b[0m\n\u001b[0;32m      1\u001b[0m \u001b[1;31m# get leftovers\u001b[0m\u001b[1;33m\u001b[0m\u001b[1;33m\u001b[0m\u001b[1;33m\u001b[0m\u001b[0m\n\u001b[0;32m      2\u001b[0m \u001b[1;32mimport\u001b[0m \u001b[0mjson\u001b[0m\u001b[1;33m\u001b[0m\u001b[1;33m\u001b[0m\u001b[0m\n\u001b[1;32m----> 3\u001b[1;33m \u001b[1;32mfrom\u001b[0m \u001b[0mzip_codes\u001b[0m \u001b[1;32mimport\u001b[0m \u001b[0mnyc\u001b[0m\u001b[1;33m,\u001b[0m \u001b[0mwc\u001b[0m\u001b[1;33m\u001b[0m\u001b[1;33m\u001b[0m\u001b[0m\n\u001b[0m\u001b[0;32m      4\u001b[0m \u001b[1;32mfrom\u001b[0m \u001b[0mgeojson\u001b[0m \u001b[1;32mimport\u001b[0m \u001b[0mleftovers\u001b[0m\u001b[1;33m\u001b[0m\u001b[1;33m\u001b[0m\u001b[0m\n\u001b[0;32m      5\u001b[0m \u001b[1;33m\u001b[0m\u001b[0m\n",
      "\u001b[1;31mImportError\u001b[0m: cannot import name 'nyc' from 'zip_codes' (c:\\Users\\rachl\\coding projects\\metrospeedy-geojson\\src\\zip_codes.py)"
     ]
    }
   ],
   "source": [
    "# get leftovers\n",
    "import json\n",
    "from zip_codes import nyc\n",
    "from geojson import leftovers\n",
    "\n",
    "with open('../geojson/ny.min.json', 'r') as file:\n",
    "    data = json.load(file)\n",
    "\n",
    "zip_codes = leftovers(\n",
    "    data = data,\n",
    "    zip_codes = nyc\n",
    ")\n",
    "\n",
    "# call api for coordinates \n",
    "import requests\n",
    "from pprint import pprint\n",
    "\n",
    "csv_data = []\n",
    "\n",
    "# res = requests.get(\"https://public.opendatasoft.com/api/records/1.0/search/?dataset=us-zip-code-latitude-and-longitude&q=10008&rows=1\")\n",
    "# data = res.json()\n",
    "# pprint(data)\n",
    "\n",
    "\n",
    "for code in zip_codes:\n",
    "    try:\n",
    "        res = requests.get(\"https://public.opendatasoft.com/api/records/1.0/search/?dataset=us-zip-code-latitude-and-longitude&q={}&rows=1\".format(code))\n",
    "    except requests.exceptions.RequestException as e:  \n",
    "        raise SystemExit(e)\n",
    "    data = res.json()\n",
    "    print(data[\"records\"][0][\"geometry\"][\"coordinates\"])\n",
    "    long = data[\"records\"][0][\"geometry\"][\"coordinates\"][0]\n",
    "    lat = data[\"records\"][0][\"geometry\"][\"coordinates\"][1]\n",
    "    coord = {\n",
    "        \"zip code\": code,\n",
    "        \"long\": long,\n",
    "        \"lat\": lat\n",
    "    }\n",
    "    csv_data.append(coord)\n",
    "\n",
    "# write data to csv file\n",
    "from csv_ops import write_data\n",
    "\n",
    "write_data(\n",
    "    file = \"../coordinates.csv\",\n",
    "    fieldnames = [\"zip code\", \"long\", \"lat\"],\n",
    "    data = csv_data\n",
    ")"
   ]
  },
  {
   "cell_type": "code",
   "execution_count": null,
   "metadata": {},
   "outputs": [],
   "source": [
    "# get leftovers\n",
    "import json\n",
    "from zip_codes import wc\n",
    "from geojson import leftovers\n",
    "\n",
    "with open('../geojson/ny.min.json', 'r') as file:\n",
    "    data = json.load(file)\n",
    "\n",
    "zip_codes = leftovers(\n",
    "    data = data,\n",
    "    zip_codes = wc\n",
    ")\n",
    "\n",
    "# call api for coordinates \n",
    "import requests\n",
    "from pprint import pprint\n",
    "\n",
    "csv_data = []\n",
    "\n",
    "# res = requests.get(\"https://public.opendatasoft.com/api/records/1.0/search/?dataset=us-zip-code-latitude-and-longitude&q=10008&rows=1\")\n",
    "# data = res.json()\n",
    "# pprint(data)\n",
    "\n",
    "\n",
    "for code in zip_codes:\n",
    "    try:\n",
    "        res = requests.get(\"https://public.opendatasoft.com/api/records/1.0/search/?dataset=us-zip-code-latitude-and-longitude&q={}&rows=1\".format(code))\n",
    "    except requests.exceptions.RequestException as e:  \n",
    "        raise SystemExit(e)\n",
    "    data = res.json()\n",
    "    print(data[\"records\"][0][\"geometry\"][\"coordinates\"])\n",
    "    long = data[\"records\"][0][\"geometry\"][\"coordinates\"][0]\n",
    "    lat = data[\"records\"][0][\"geometry\"][\"coordinates\"][1]\n",
    "    coord = {\n",
    "        \"zip code\": code,\n",
    "        \"long\": long,\n",
    "        \"lat\": lat\n",
    "    }\n",
    "    csv_data.append(coord)\n",
    "\n",
    "# write data to csv file\n",
    "from csv_ops import write_data\n",
    "\n",
    "write_data(\n",
    "    file = \"../coordinates.csv\",\n",
    "    fieldnames = [\"zip code\", \"long\", \"lat\"],\n",
    "    data = csv_data\n",
    ")"
   ]
  },
  {
   "cell_type": "code",
   "execution_count": 34,
   "metadata": {
    "tags": []
   },
   "outputs": [
    {
     "output_type": "error",
     "ename": "ImportError",
     "evalue": "cannot import name 'nyc' from 'zip_codes' (c:\\Users\\rachl\\coding projects\\metrospeedy-geojson\\src\\zip_codes.py)",
     "traceback": [
      "\u001b[1;31m---------------------------------------------------------------------------\u001b[0m",
      "\u001b[1;31mImportError\u001b[0m                               Traceback (most recent call last)",
      "\u001b[1;32m<ipython-input-34-a390584012d2>\u001b[0m in \u001b[0;36m<module>\u001b[1;34m\u001b[0m\n\u001b[0;32m      1\u001b[0m \u001b[1;31m# get leftovers\u001b[0m\u001b[1;33m\u001b[0m\u001b[1;33m\u001b[0m\u001b[1;33m\u001b[0m\u001b[0m\n\u001b[0;32m      2\u001b[0m \u001b[1;32mimport\u001b[0m \u001b[0mjson\u001b[0m\u001b[1;33m\u001b[0m\u001b[1;33m\u001b[0m\u001b[0m\n\u001b[1;32m----> 3\u001b[1;33m \u001b[1;32mfrom\u001b[0m \u001b[0mzip_codes\u001b[0m \u001b[1;32mimport\u001b[0m \u001b[0mnyc\u001b[0m\u001b[1;33m\u001b[0m\u001b[1;33m\u001b[0m\u001b[0m\n\u001b[0m\u001b[0;32m      4\u001b[0m \u001b[1;32mfrom\u001b[0m \u001b[0mgeojson\u001b[0m \u001b[1;32mimport\u001b[0m \u001b[0mleftovers\u001b[0m\u001b[1;33m\u001b[0m\u001b[1;33m\u001b[0m\u001b[0m\n\u001b[0;32m      5\u001b[0m \u001b[1;33m\u001b[0m\u001b[0m\n",
      "\u001b[1;31mImportError\u001b[0m: cannot import name 'nyc' from 'zip_codes' (c:\\Users\\rachl\\coding projects\\metrospeedy-geojson\\src\\zip_codes.py)"
     ]
    }
   ],
   "source": [
    "# get leftovers\n",
    "import json\n",
    "from zip_codes import nyc\n",
    "from geojson import leftovers\n",
    "\n",
    "print(nyc)\n",
    "\n",
    "# with open('../geojson/ny.min.json', 'r') as file:\n",
    "#     data = json.load(file)\n",
    "\n",
    "# zip_codes = leftovers(\n",
    "#     data = data,\n",
    "#     zip_codes = nyc\n",
    "# )\n",
    "\n",
    "# print(zip_codes)"
   ]
  },
  {
   "cell_type": "code",
   "execution_count": 14,
   "metadata": {
    "tags": []
   },
   "outputs": [],
   "source": [
    "# write geojson file with coordinates\n",
    "\n",
    "# read csv file \n",
    "import csv\n",
    "\n",
    "geopoints = []\n",
    "\n",
    "with open('../coordinates.csv', mode=\"r\") as csv_file:\n",
    "    reader = csv.DictReader(csv_file)\n",
    "    row_count = 0\n",
    "    for row in reader:\n",
    "        if row_count != 0:\n",
    "            point = [float(row[\"long\"]), float(row[\"lat\"])]\n",
    "            geopoints.append(point)\n",
    "        row_count += 1\n"
   ]
  },
  {
   "cell_type": "code",
   "execution_count": 12,
   "metadata": {
    "tags": []
   },
   "outputs": [
    {
     "output_type": "error",
     "ename": "NameError",
     "evalue": "name 'zip_codes' is not defined",
     "traceback": [
      "\u001b[1;31m---------------------------------------------------------------------------\u001b[0m",
      "\u001b[1;31mNameError\u001b[0m                                 Traceback (most recent call last)",
      "\u001b[1;32m<ipython-input-12-a591a6a69914>\u001b[0m in \u001b[0;36m<module>\u001b[1;34m\u001b[0m\n\u001b[0;32m      7\u001b[0m }\n\u001b[0;32m      8\u001b[0m \u001b[1;33m\u001b[0m\u001b[0m\n\u001b[1;32m----> 9\u001b[1;33m \u001b[1;32mfor\u001b[0m \u001b[0mindex\u001b[0m\u001b[1;33m,\u001b[0m \u001b[0mzc\u001b[0m \u001b[1;32min\u001b[0m \u001b[0menumerate\u001b[0m\u001b[1;33m(\u001b[0m\u001b[0mzip_codes\u001b[0m\u001b[1;33m)\u001b[0m\u001b[1;33m:\u001b[0m\u001b[1;33m\u001b[0m\u001b[1;33m\u001b[0m\u001b[0m\n\u001b[0m\u001b[0;32m     10\u001b[0m     coord_feature = {\n\u001b[0;32m     11\u001b[0m         \u001b[1;34m\"type\"\u001b[0m\u001b[1;33m:\u001b[0m \u001b[1;34m\"Feature\"\u001b[0m\u001b[1;33m,\u001b[0m\u001b[1;33m\u001b[0m\u001b[1;33m\u001b[0m\u001b[0m\n",
      "\u001b[1;31mNameError\u001b[0m: name 'zip_codes' is not defined"
     ]
    }
   ],
   "source": [
    "# write geojson file\n",
    "import json\n",
    "\n",
    "data = {\n",
    "    \"type\": \"FeatureCollection\",\n",
    "    \"features\": []\n",
    "}\n",
    "\n",
    "for index, zc in enumerate(zip_codes):\n",
    "    coord_feature = {\n",
    "        \"type\": \"Feature\",\n",
    "        \"properties\": {\n",
    "            \"ZCTA5CE10\": str(zc)\n",
    "        },\n",
    "        \"geometry\": {\n",
    "            \"type\": \"Point\",\n",
    "            \"coordinates\": geopoints[index]\n",
    "        }\n",
    "    }\n",
    "\n",
    "    data[\"features\"].append(coord_feature)\n",
    "\n",
    "with open(\"../geojson/zc_points.geojson\", mode=\"w\") as write_file:\n",
    "    json.dump(data, write_file, indent=2)"
   ]
  }
 ]
}